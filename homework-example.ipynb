{
 "cells": [
  {
   "cell_type": "markdown",
   "metadata": {},
   "source": [
    "# Intro\n",
    "\n",
    "This is a solution to the challenge in Chapter 7, Lesson 6 **\"Practice Using Git and GitHub to Manage Files\"** of the course textbook ***\"Intro to Earth Data Science\"***. Click <a href=\"https://earthdatascience.org/courses/intro-to-earth-data-science/git-github/version-control/guided-activity-version-control/\" target=\"_blank\">here</a> to access the course website.\n"
   ]
  },
  {
   "cell_type": "markdown",
   "metadata": {},
   "source": [
    "## Challenge\n",
    "Basically just modifying the file locally and pushing it back to GitHub.com using Shell Command"
   ]
  },
  {
   "cell_type": "code",
   "execution_count": null,
   "metadata": {},
   "outputs": [],
   "source": []
  }
 ],
 "metadata": {
  "kernelspec": {
   "display_name": "Python 3 (ipykernel)",
   "language": "python",
   "name": "python3"
  },
  "language_info": {
   "codemirror_mode": {
    "name": "ipython",
    "version": 3
   },
   "file_extension": ".py",
   "mimetype": "text/x-python",
   "name": "python",
   "nbconvert_exporter": "python",
   "pygments_lexer": "ipython3",
   "version": "3.12.3"
  }
 },
 "nbformat": 4,
 "nbformat_minor": 4
}
